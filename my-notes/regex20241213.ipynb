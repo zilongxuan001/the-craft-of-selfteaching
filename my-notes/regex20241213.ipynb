{
 "cells": [
  {
   "cell_type": "code",
   "execution_count": 68,
   "metadata": {},
   "outputs": [
    {
     "name": "stdout",
     "output_type": "stream",
     "text": [
      "Pretty printing has been turned OFF\n"
     ]
    }
   ],
   "source": [
    "import re\n",
    "%pprint"
   ]
  },
  {
   "cell_type": "code",
   "execution_count": 27,
   "metadata": {},
   "outputs": [
    {
     "data": {
      "text/plain": [
       "['#']"
      ]
     },
     "execution_count": 27,
     "metadata": {},
     "output_type": "execute_result"
    }
   ],
   "source": [
    "sen = '#123 Using decorators in this way also shows up in stock Python. '\n",
    "pttn = r\"\\#\"\n",
    "re.findall(pttn, sen)"
   ]
  },
  {
   "cell_type": "code",
   "execution_count": 29,
   "metadata": {},
   "outputs": [
    {
     "data": {
      "text/plain": [
       "['#']"
      ]
     },
     "execution_count": 29,
     "metadata": {},
     "output_type": "execute_result"
    }
   ],
   "source": [
    "pttn = r\"\\#\"\n",
    "re.findall(pttn, sen)"
   ]
  },
  {
   "cell_type": "code",
   "execution_count": 30,
   "metadata": {},
   "outputs": [
    {
     "data": {
      "text/plain": [
       "['s', 'i', 'n', 'g', 'd', 'e', 'c', 'o', 'r', 'a', 't', 'o', 'r', 's', 'i', 'n', 't', 'h', 'i', 's', 'w', 'a', 'y', 'a', 'l', 's', 'o', 's', 'h', 'o', 'w', 's', 'u', 'p', 'i', 'n', 's', 't', 'o', 'c', 'k', 'y', 't', 'h', 'o', 'n']"
      ]
     },
     "execution_count": 30,
     "metadata": {},
     "output_type": "execute_result"
    }
   ],
   "source": [
    "pttn = r\"[a-z]\"\n",
    "re.findall(pttn, sen)"
   ]
  },
  {
   "cell_type": "code",
   "execution_count": 31,
   "metadata": {},
   "outputs": [
    {
     "data": {
      "text/plain": [
       "['#', '1', '2', '3', ' ', 'U', ' ', ' ', ' ', ' ', ' ', ' ', ' ', ' ', ' ', ' ', 'P', '.', ' ']"
      ]
     },
     "execution_count": 31,
     "metadata": {},
     "output_type": "execute_result"
    }
   ],
   "source": [
    "pttn = r\"[^a-z]\"\n",
    "re.findall(pttn, sen)"
   ]
  },
  {
   "cell_type": "code",
   "execution_count": 32,
   "metadata": {},
   "outputs": [
    {
     "data": {
      "text/plain": [
       "['U', 'P']"
      ]
     },
     "execution_count": 32,
     "metadata": {},
     "output_type": "execute_result"
    }
   ],
   "source": [
    "pttn = r\"[A-Z]\"\n",
    "re.findall(pttn, sen)"
   ]
  },
  {
   "cell_type": "code",
   "execution_count": 33,
   "metadata": {},
   "outputs": [
    {
     "data": {
      "text/plain": [
       "['#', '1', '2', '3', ' ', 's', 'i', 'n', 'g', ' ', 'd', 'e', 'c', 'o', 'r', 'a', 't', 'o', 'r', 's', ' ', 'i', 'n', ' ', 't', 'h', 'i', 's', ' ', 'w', 'a', 'y', ' ', 'a', 'l', 's', 'o', ' ', 's', 'h', 'o', 'w', 's', ' ', 'u', 'p', ' ', 'i', 'n', ' ', 's', 't', 'o', 'c', 'k', ' ', 'y', 't', 'h', 'o', 'n', '.', ' ']"
      ]
     },
     "execution_count": 33,
     "metadata": {},
     "output_type": "execute_result"
    }
   ],
   "source": [
    "pttn = r\"[^A-Z]\"\n",
    "re.findall(pttn, sen)"
   ]
  },
  {
   "cell_type": "code",
   "execution_count": 34,
   "metadata": {},
   "outputs": [
    {
     "data": {
      "text/plain": [
       "['1', '2', '3']"
      ]
     },
     "execution_count": 34,
     "metadata": {},
     "output_type": "execute_result"
    }
   ],
   "source": [
    "pttn = r\"\\d\"\n",
    "re.findall(pttn,sen)"
   ]
  },
  {
   "cell_type": "code",
   "execution_count": 37,
   "metadata": {},
   "outputs": [
    {
     "data": {
      "text/plain": [
       "['#', ' ', 'U', 's', 'i', 'n', 'g', ' ', 'd', 'e', 'c', 'o', 'r', 'a', 't', 'o', 'r', 's', ' ', 'i', 'n', ' ', 't', 'h', 'i', 's', ' ', 'w', 'a', 'y', ' ', 'a', 'l', 's', 'o', ' ', 's', 'h', 'o', 'w', 's', ' ', 'u', 'p', ' ', 'i', 'n', ' ', 's', 't', 'o', 'c', 'k', ' ', 'P', 'y', 't', 'h', 'o', 'n', '.', ' ']"
      ]
     },
     "execution_count": 37,
     "metadata": {},
     "output_type": "execute_result"
    }
   ],
   "source": [
    "pttn = r\"\\D\"\n",
    "re.findall(pttn,sen)"
   ]
  },
  {
   "cell_type": "code",
   "execution_count": 35,
   "metadata": {},
   "outputs": [
    {
     "data": {
      "text/plain": [
       "['1', '2', '3', 'U', 's', 'i', 'n', 'g', 'd', 'e', 'c', 'o', 'r', 'a', 't', 'o', 'r', 's', 'i', 'n', 't', 'h', 'i', 's', 'w', 'a', 'y', 'a', 'l', 's', 'o', 's', 'h', 'o', 'w', 's', 'u', 'p', 'i', 'n', 's', 't', 'o', 'c', 'k', 'P', 'y', 't', 'h', 'o', 'n']"
      ]
     },
     "execution_count": 35,
     "metadata": {},
     "output_type": "execute_result"
    }
   ],
   "source": [
    "pttn = r\"\\w\"\n",
    "re.findall(pttn,sen)"
   ]
  },
  {
   "cell_type": "code",
   "execution_count": 36,
   "metadata": {},
   "outputs": [
    {
     "data": {
      "text/plain": [
       "['#', ' ', ' ', ' ', ' ', ' ', ' ', ' ', ' ', ' ', ' ', ' ', '.', ' ']"
      ]
     },
     "execution_count": 36,
     "metadata": {},
     "output_type": "execute_result"
    }
   ],
   "source": [
    "pttn = r\"\\W\"\n",
    "re.findall(pttn,sen)"
   ]
  },
  {
   "cell_type": "code",
   "execution_count": 38,
   "metadata": {},
   "outputs": [
    {
     "data": {
      "text/plain": [
       "[' ', ' ', ' ', ' ', ' ', ' ', ' ', ' ', ' ', ' ', ' ', ' ']"
      ]
     },
     "execution_count": 38,
     "metadata": {},
     "output_type": "execute_result"
    }
   ],
   "source": [
    "pttn = r\"\\s\"\n",
    "re.findall(pttn,sen)"
   ]
  },
  {
   "cell_type": "code",
   "execution_count": 39,
   "metadata": {},
   "outputs": [
    {
     "data": {
      "text/plain": [
       "['#', '1', '2', '3', 'U', 's', 'i', 'n', 'g', 'd', 'e', 'c', 'o', 'r', 'a', 't', 'o', 'r', 's', 'i', 'n', 't', 'h', 'i', 's', 'w', 'a', 'y', 'a', 'l', 's', 'o', 's', 'h', 'o', 'w', 's', 'u', 'p', 'i', 'n', 's', 't', 'o', 'c', 'k', 'P', 'y', 't', 'h', 'o', 'n', '.']"
      ]
     },
     "execution_count": 39,
     "metadata": {},
     "output_type": "execute_result"
    }
   ],
   "source": [
    "pttn = r\"\\S\"\n",
    "re.findall(pttn,sen)"
   ]
  },
  {
   "cell_type": "code",
   "execution_count": 40,
   "metadata": {},
   "outputs": [
    {
     "data": {
      "text/plain": [
       "['#', '1', '2', '3', ' ', 'U', 's', 'i', 'n', 'g', ' ', 'd', 'e', 'c', 'o', 'r', 'a', 't', 'o', 'r', 's', ' ', 'i', 'n', ' ', 't', 'h', 'i', 's', ' ', 'w', 'a', 'y', ' ', 'a', 'l', 's', 'o', ' ', 's', 'h', 'o', 'w', 's', ' ', 'u', 'p', ' ', 'i', 'n', ' ', 's', 't', 'o', 'c', 'k', ' ', 'P', 'y', 't', 'h', 'o', 'n', '.', ' ']"
      ]
     },
     "execution_count": 40,
     "metadata": {},
     "output_type": "execute_result"
    }
   ],
   "source": [
    "pttn = r\".\"\n",
    "re.findall(pttn,sen)"
   ]
  },
  {
   "cell_type": "code",
   "execution_count": 43,
   "metadata": {},
   "outputs": [
    {
     "data": {
      "text/plain": [
       "[]"
      ]
     },
     "execution_count": 43,
     "metadata": {},
     "output_type": "execute_result"
    }
   ],
   "source": [
    "pttn = r\"\\n\"\n",
    "re.findall(pttn,sen)"
   ]
  },
  {
   "cell_type": "code",
   "execution_count": 58,
   "metadata": {},
   "outputs": [
    {
     "name": "stdout",
     "output_type": "stream",
     "text": [
      "['#123', 'Using', 'decorators', 'Us', 'in', 'this', 'way', 'also', 'shows', 'up', 'in', 'stock', 'Python.', '']\n"
     ]
    }
   ],
   "source": [
    "sen = '#123 Using decorators Us in this way also shows up in stock Python. '\n",
    "spilt_sen = sen.split(\" \")\n",
    "print(spilt_sen)\n"
   ]
  },
  {
   "cell_type": "code",
   "execution_count": 69,
   "metadata": {},
   "outputs": [
    {
     "name": "stdout",
     "output_type": "stream",
     "text": [
      "[],['U'],[],['U'],[],[],[],[],[],[],[],[],[],[],"
     ]
    }
   ],
   "source": [
    "pttn = r\"^U\"\n",
    "for i in spilt_sen:\n",
    "    print(re.findall(pttn,i),end=\",\")\n",
    "    "
   ]
  },
  {
   "cell_type": "code",
   "execution_count": 72,
   "metadata": {},
   "outputs": [
    {
     "name": "stdout",
     "output_type": "stream",
     "text": [
      "[],[],['s'],['s'],[],['s'],[],[],['s'],[],[],[],[],[],"
     ]
    }
   ],
   "source": [
    "pttn = r\"s$\"\n",
    "for i in spilt_sen:\n",
    "    print(re.findall(pttn,i),end=\",\")    "
   ]
  },
  {
   "cell_type": "code",
   "execution_count": 79,
   "metadata": {},
   "outputs": [
    {
     "data": {
      "text/plain": [
       "['in', 'in']"
      ]
     },
     "execution_count": 79,
     "metadata": {},
     "output_type": "execute_result"
    }
   ],
   "source": [
    "pttn = r\"in\\b\"\n",
    "re.findall(pttn,sen)"
   ]
  },
  {
   "cell_type": "code",
   "execution_count": 81,
   "metadata": {},
   "outputs": [
    {
     "data": {
      "text/plain": [
       "['in']"
      ]
     },
     "execution_count": 81,
     "metadata": {},
     "output_type": "execute_result"
    }
   ],
   "source": [
    "pttn = r\"in\\B\"\n",
    "re.findall(pttn,sen)"
   ]
  },
  {
   "cell_type": "code",
   "execution_count": null,
   "metadata": {},
   "outputs": [],
   "source": []
  }
 ],
 "metadata": {
  "kernelspec": {
   "display_name": "Python 3 (ipykernel)",
   "language": "python",
   "name": "python3"
  },
  "language_info": {
   "codemirror_mode": {
    "name": "ipython",
    "version": 3
   },
   "file_extension": ".py",
   "mimetype": "text/x-python",
   "name": "python",
   "nbconvert_exporter": "python",
   "pygments_lexer": "ipython3",
   "version": "3.8.5"
  },
  "toc": {
   "base_numbering": 1,
   "nav_menu": {},
   "number_sections": true,
   "sideBar": true,
   "skip_h1_title": false,
   "title_cell": "Table of Contents",
   "title_sidebar": "Contents",
   "toc_cell": false,
   "toc_position": {},
   "toc_section_display": true,
   "toc_window_display": false
  }
 },
 "nbformat": 4,
 "nbformat_minor": 4
}
