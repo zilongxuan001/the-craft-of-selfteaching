{
 "cells": [
  {
   "cell_type": "code",
   "execution_count": 1,
   "metadata": {},
   "outputs": [
    {
     "name": "stdout",
     "output_type": "stream",
     "text": [
      "Pretty printing has been turned OFF\n"
     ]
    }
   ],
   "source": [
    "from IPython.core.interactiveshell import InteractiveShell\n",
    "InteractiveShell.ast_node_interactivity = \"all\"\n",
    "%pprint"
   ]
  },
  {
   "cell_type": "code",
   "execution_count": 7,
   "metadata": {},
   "outputs": [
    {
     "data": {
      "text/plain": [
       "'I am back.'"
      ]
     },
     "execution_count": 7,
     "metadata": {},
     "output_type": "execute_result"
    },
    {
     "name": "stdout",
     "output_type": "stream",
     "text": [
      "I Am Back.\n",
      "There is a func here!\n"
     ]
    }
   ],
   "source": [
    "# 设计一个函数a_decorator，接收函数 a_func作为参数。\n",
    "def a_decorator(func):\n",
    "    def wrapper():\n",
    "        word = a_func()        \n",
    "        print(word.title())\n",
    "        print(\"There is a func here!\")\n",
    "    return wrapper()\n",
    "\n",
    "def a_func():\n",
    "    return \"I am back.\"\n",
    "\n",
    "a_func()\n",
    "a_decorator(a_func)\n",
    "    "
   ]
  },
  {
   "cell_type": "code",
   "execution_count": 27,
   "metadata": {},
   "outputs": [
    {
     "name": "stdout",
     "output_type": "stream",
     "text": [
      "('good', 'morning') boy\n"
     ]
    }
   ],
   "source": [
    "# 设计一个函数a_decorator，用装饰器接收函数 a_func作为参数。\n",
    "def a_decorator_with_args(arg1):\n",
    "    def a_decorator(func,name = None):\n",
    "        def wrapper(*args):\n",
    "            word = func(*args)\n",
    "            print(word, arg1)        \n",
    "        return wrapper\n",
    "    return a_decorator\n",
    "\n",
    "@a_decorator_with_args(\"boy\")\n",
    "def a_func(*args):\n",
    "    return args\n",
    "\n",
    "a_func(\"good\",\"morning\")"
   ]
  },
  {
   "cell_type": "code",
   "execution_count": 24,
   "metadata": {},
   "outputs": [
    {
     "name": "stdout",
     "output_type": "stream",
     "text": [
      "Decorator arguments: Hello, World\n",
      "Greeting name\n"
     ]
    }
   ],
   "source": [
    "def decorator_with_args(arg1=None, arg2=None):\n",
    "    def decorator(func):\n",
    "        def wrapper():\n",
    "            print(f\"Decorator arguments: {arg1}, {arg2}\")\n",
    "            return func()\n",
    "        return wrapper\n",
    "\n",
    "    return decorator\n",
    "\n",
    "@decorator_with_args(\"Hello\", \"World\")\n",
    "def greet():\n",
    "    print(f\"Greeting name\")\n",
    "\n",
    "greet()"
   ]
  },
  {
   "cell_type": "code",
   "execution_count": 3,
   "metadata": {},
   "outputs": [
    {
     "data": {
      "text/plain": [
       "[0, 1, 2, 3, 4, 5, 6, 7, 8, 9, 10, 11, 12, 13, 14, 15, 16, 17, 18, 19]"
      ]
     },
     "execution_count": 3,
     "metadata": {},
     "output_type": "execute_result"
    }
   ],
   "source": [
    "a_list"
   ]
  },
  {
   "cell_type": "code",
   "execution_count": 6,
   "metadata": {},
   "outputs": [
    {
     "name": "stdout",
     "output_type": "stream",
     "text": [
      "0,1,2,3,4,5,6,7,8,9,10,11,12,13,14,15,16,17,18,19,"
     ]
    }
   ],
   "source": [
    "for i in a_list:\n",
    "    print(i,end=\",\")"
   ]
  },
  {
   "cell_type": "code",
   "execution_count": 23,
   "metadata": {},
   "outputs": [],
   "source": [
    "a_iter = iter(a_list)"
   ]
  },
  {
   "cell_type": "code",
   "execution_count": 8,
   "metadata": {},
   "outputs": [
    {
     "data": {
      "text/plain": [
       "0"
      ]
     },
     "execution_count": 8,
     "metadata": {},
     "output_type": "execute_result"
    }
   ],
   "source": [
    "next(a_iter)"
   ]
  },
  {
   "cell_type": "code",
   "execution_count": 22,
   "metadata": {},
   "outputs": [
    {
     "ename": "StopIteration",
     "evalue": "",
     "output_type": "error",
     "traceback": [
      "\u001b[1;31m---------------------------------------------------------------------------\u001b[0m",
      "\u001b[1;31mStopIteration\u001b[0m                             Traceback (most recent call last)",
      "Cell \u001b[1;32mIn[22], line 1\u001b[0m\n\u001b[1;32m----> 1\u001b[0m \u001b[38;5;28;43mnext\u001b[39;49m\u001b[43m(\u001b[49m\u001b[43ma_iter\u001b[49m\u001b[43m)\u001b[49m\n",
      "\u001b[1;31mStopIteration\u001b[0m: "
     ]
    }
   ],
   "source": [
    "next(a_iter)"
   ]
  },
  {
   "cell_type": "code",
   "execution_count": 24,
   "metadata": {},
   "outputs": [
    {
     "name": "stdout",
     "output_type": "stream",
     "text": [
      "0,1,2,3,4,5,6,7,8,9,10,11,12,13,14,15,16,"
     ]
    }
   ],
   "source": [
    "for i in range(17):\n",
    "    print(next(a_iter),end=\",\")"
   ]
  },
  {
   "cell_type": "code",
   "execution_count": 4,
   "metadata": {},
   "outputs": [
    {
     "data": {
      "text/plain": [
       "1994"
      ]
     },
     "execution_count": 4,
     "metadata": {},
     "output_type": "execute_result"
    },
    {
     "data": {
      "text/plain": [
       "1995"
      ]
     },
     "execution_count": 4,
     "metadata": {},
     "output_type": "execute_result"
    },
    {
     "data": {
      "text/plain": [
       "1996"
      ]
     },
     "execution_count": 4,
     "metadata": {},
     "output_type": "execute_result"
    }
   ],
   "source": [
    "# 注意，要有 raise StopIteration\n",
    "# 错误：if self.start > self.start:  → if self.start > self.stop:\n",
    "# 错误：        return c在else里 →         return c 和else并列\n",
    "class A_iterator():\n",
    "    def __init__(self, start,stop):\n",
    "        self.start = start\n",
    "        self.stop = stop\n",
    "        \n",
    "    def __iter__(self):\n",
    "        return self\n",
    "    \n",
    "    def __next__(self):\n",
    "        if self.start > self.stop:\n",
    "            raise StopIteration\n",
    "        else:\n",
    "            c = self.start\n",
    "            self.start += 1\n",
    "        return c\n",
    "\n",
    "a_iter = A_iterator(1994,2004)\n",
    "next(a_iter)\n",
    "next(a_iter)\n",
    "next(a_iter)"
   ]
  },
  {
   "cell_type": "code",
   "execution_count": 5,
   "metadata": {},
   "outputs": [
    {
     "name": "stdout",
     "output_type": "stream",
     "text": [
      "1994,1995,1996,1997,1998,1999,2000,2001,2002,2003,2004,"
     ]
    }
   ],
   "source": [
    "for i in A_iterator(1994,2004):\n",
    "    print(i, end =',')\n"
   ]
  },
  {
   "cell_type": "code",
   "execution_count": 6,
   "metadata": {},
   "outputs": [
    {
     "name": "stdout",
     "output_type": "stream",
     "text": [
      "2004,2005,2006,2007,2008,2009,2010,2011,2012,2013,2014,2015,2016,2017,2018,2019,2020,2021,2022,2023,2024,"
     ]
    }
   ],
   "source": [
    "c = A_iterator(2004,2024)\n",
    "while True:\n",
    "    try:\n",
    "        print(next(c),end=',')\n",
    "    except StopIteration:\n",
    "        break"
   ]
  },
  {
   "cell_type": "code",
   "execution_count": 15,
   "metadata": {},
   "outputs": [],
   "source": [
    "# 错误： if → while\n",
    "def a_generator(start,stop):\n",
    "    while start <= stop:\n",
    "        yield start\n",
    "        start += 1\n",
    "    return start"
   ]
  },
  {
   "cell_type": "code",
   "execution_count": 16,
   "metadata": {},
   "outputs": [],
   "source": [
    "a_ge = a_generator(21,25)"
   ]
  },
  {
   "cell_type": "code",
   "execution_count": 17,
   "metadata": {},
   "outputs": [
    {
     "data": {
      "text/plain": [
       "21"
      ]
     },
     "execution_count": 17,
     "metadata": {},
     "output_type": "execute_result"
    },
    {
     "data": {
      "text/plain": [
       "22"
      ]
     },
     "execution_count": 17,
     "metadata": {},
     "output_type": "execute_result"
    },
    {
     "data": {
      "text/plain": [
       "23"
      ]
     },
     "execution_count": 17,
     "metadata": {},
     "output_type": "execute_result"
    }
   ],
   "source": [
    "next(a_ge)\n",
    "next(a_ge)\n",
    "next(a_ge)"
   ]
  },
  {
   "cell_type": "code",
   "execution_count": 18,
   "metadata": {},
   "outputs": [
    {
     "name": "stdout",
     "output_type": "stream",
     "text": [
      "101,102,103,104,105,106,107,108,109,110,"
     ]
    }
   ],
   "source": [
    "for i in a_generator(101,110):\n",
    "    print(i, end=',')"
   ]
  },
  {
   "cell_type": "code",
   "execution_count": 20,
   "metadata": {},
   "outputs": [
    {
     "name": "stdout",
     "output_type": "stream",
     "text": [
      "101,102,103,104,105,106,107,108,109,110,"
     ]
    }
   ],
   "source": [
    "a_gen = a_generator(101,110)\n",
    "while True:\n",
    "    try:\n",
    "        print(next(a_gen), end=',')\n",
    "    except StopIteration:\n",
    "        break\n",
    "        "
   ]
  },
  {
   "cell_type": "code",
   "execution_count": 21,
   "metadata": {},
   "outputs": [
    {
     "name": "stdout",
     "output_type": "stream",
     "text": [
      "There will be a func...\n",
      "I am here,a func.\n",
      "There have finished func\n"
     ]
    }
   ],
   "source": [
    "def whole_func(func):\n",
    "    def wrapper():\n",
    "        print(\"There will be a func...\")\n",
    "        func()\n",
    "        print(\"There have finished func\")\n",
    "    return wrapper()\n",
    "\n",
    "def a_func():\n",
    "    print(\"I am here,a func.\")\n",
    "\n",
    "whole_func(a_func)"
   ]
  },
  {
   "cell_type": "code",
   "execution_count": 22,
   "metadata": {},
   "outputs": [
    {
     "name": "stdout",
     "output_type": "stream",
     "text": [
      "There will be a func...\n",
      "I am here,a func.\n",
      "There have finished func\n"
     ]
    }
   ],
   "source": [
    "def whole_func(func):\n",
    "    def wrapper():\n",
    "        print(\"There will be a func...\")\n",
    "        func()\n",
    "        print(\"There have finished func\")\n",
    "    return wrapper\n",
    "\n",
    "@whole_func\n",
    "def a_func():\n",
    "    print(\"I am here,a func.\")\n",
    "\n",
    "a_func()\n"
   ]
  },
  {
   "cell_type": "code",
   "execution_count": null,
   "metadata": {},
   "outputs": [],
   "source": []
  }
 ],
 "metadata": {
  "kernelspec": {
   "display_name": "Python 3 (ipykernel)",
   "language": "python",
   "name": "python3"
  },
  "language_info": {
   "codemirror_mode": {
    "name": "ipython",
    "version": 3
   },
   "file_extension": ".py",
   "mimetype": "text/x-python",
   "name": "python",
   "nbconvert_exporter": "python",
   "pygments_lexer": "ipython3",
   "version": "3.8.5"
  },
  "toc": {
   "base_numbering": 1,
   "nav_menu": {},
   "number_sections": true,
   "sideBar": true,
   "skip_h1_title": false,
   "title_cell": "Table of Contents",
   "title_sidebar": "Contents",
   "toc_cell": false,
   "toc_position": {},
   "toc_section_display": true,
   "toc_window_display": false
  }
 },
 "nbformat": 4,
 "nbformat_minor": 4
}
